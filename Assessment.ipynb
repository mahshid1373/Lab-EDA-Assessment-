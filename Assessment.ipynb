{
 "cells": [
  {
   "cell_type": "markdown",
   "metadata": {},
   "source": [
    "**Melbourne housing market dataset**\n",
    "\n",
    "The Melbourne housing market dataset contains a wealth of information about the properties sold in Melbourne, Australia between January 2016 and December 2018.\n",
    "\n",
    "The dataset includes 21 columns, each providing different information about the properties, such as their location, size, number of rooms, type of property, and price. Some columns contain continuous numerical data, such as 'Price', 'Distance', 'Landsize', and 'BuildingArea', while others contain categorical data, such as 'Suburb', 'Type', 'Method', 'Regionname', and 'CouncilArea'.\n",
    "\n",
    "Understanding the information contained in each column is essential for conducting exploratory data analysis on the dataset and gaining insights into the Melbourne housing market.\n",
    "\n",
    "**Dataset columns:**\n",
    "\n",
    "**Suburb:** The suburb where the property is located  \n",
    "**Address:** The street address of the property  \n",
    "**Rooms:** The number of rooms in the property  \n",
    "**Type:** The type of the property (house, townhouse, unit, etc.)  \n",
    "**Price:** The price at which the property was sold  \n",
    "**Method:** The method of sale (auction, private treaty, etc.)  \n",
    "**SellerG:** The agency or agent who sold the property  \n",
    "**Date:** The date on which the property was sold  \n",
    "**Distance:** The distance of the property from Melbourne's central business district (CBD) in kilometers  \n",
    "**Postcode:** The postcode of the suburb where the property is located  \n",
    "**Bedroom2:** The number of bedrooms in the property (other than the master bedroom)  \n",
    "**Bathroom:** The number of bathrooms in the property  \n",
    "**Car:** The number of car spaces in the property  \n",
    "**Landsize:** The size of the land on which the property is located in square meters  \n",
    "**BuildingArea:** The size of the building on the land in square meters  \n",
    "**YearBuilt:** The year in which the building was constructed  \n",
    "**CouncilArea:** The local government area in which the property is located  \n",
    "**Lattitude:** The latitude coordinate of the property  \n",
    "**Longtitude:** The longitude coordinate of the property  \n",
    "**Regionname:** The general region in Melbourne (west, north, south-east, etc.)  \n",
    "**Propertycount:** The number of properties in the suburb.  \n"
   ]
  },
  {
   "cell_type": "markdown",
   "metadata": {},
   "source": [
    "Download the Melbourne Housing dataset from here: https://raw.githubusercontent.com/dipalira/Melbourne-Housing-Data-Kaggle/master/Data/Melbourne_housing_FULL.csv"
   ]
  },
  {
   "cell_type": "code",
   "execution_count": 39,
   "metadata": {},
   "outputs": [],
   "source": [
    "import pandas as pd\n",
    "import matplotlib.pyplot as plt\n",
    "import numpy as np\n",
    "import statsmodels.api as sm\n",
    "from scipy import stats\n",
    "import seaborn as sns"
   ]
  },
  {
   "cell_type": "code",
   "execution_count": 5,
   "metadata": {},
   "outputs": [
    {
     "data": {
      "text/html": [
       "<div>\n",
       "<style scoped>\n",
       "    .dataframe tbody tr th:only-of-type {\n",
       "        vertical-align: middle;\n",
       "    }\n",
       "\n",
       "    .dataframe tbody tr th {\n",
       "        vertical-align: top;\n",
       "    }\n",
       "\n",
       "    .dataframe thead th {\n",
       "        text-align: right;\n",
       "    }\n",
       "</style>\n",
       "<table border=\"1\" class=\"dataframe\">\n",
       "  <thead>\n",
       "    <tr style=\"text-align: right;\">\n",
       "      <th></th>\n",
       "      <th>Suburb</th>\n",
       "      <th>Address</th>\n",
       "      <th>Rooms</th>\n",
       "      <th>Type</th>\n",
       "      <th>Price</th>\n",
       "      <th>Method</th>\n",
       "      <th>SellerG</th>\n",
       "      <th>Date</th>\n",
       "      <th>Distance</th>\n",
       "      <th>Postcode</th>\n",
       "      <th>...</th>\n",
       "      <th>Bathroom</th>\n",
       "      <th>Car</th>\n",
       "      <th>Landsize</th>\n",
       "      <th>BuildingArea</th>\n",
       "      <th>YearBuilt</th>\n",
       "      <th>CouncilArea</th>\n",
       "      <th>Lattitude</th>\n",
       "      <th>Longtitude</th>\n",
       "      <th>Regionname</th>\n",
       "      <th>Propertycount</th>\n",
       "    </tr>\n",
       "  </thead>\n",
       "  <tbody>\n",
       "    <tr>\n",
       "      <th>0</th>\n",
       "      <td>Abbotsford</td>\n",
       "      <td>68 Studley St</td>\n",
       "      <td>2</td>\n",
       "      <td>h</td>\n",
       "      <td>NaN</td>\n",
       "      <td>SS</td>\n",
       "      <td>Jellis</td>\n",
       "      <td>3/09/2016</td>\n",
       "      <td>2.5</td>\n",
       "      <td>3067.0</td>\n",
       "      <td>...</td>\n",
       "      <td>1.0</td>\n",
       "      <td>1.0</td>\n",
       "      <td>126.0</td>\n",
       "      <td>NaN</td>\n",
       "      <td>NaN</td>\n",
       "      <td>Yarra City Council</td>\n",
       "      <td>-37.8014</td>\n",
       "      <td>144.9958</td>\n",
       "      <td>Northern Metropolitan</td>\n",
       "      <td>4019.0</td>\n",
       "    </tr>\n",
       "    <tr>\n",
       "      <th>1</th>\n",
       "      <td>Abbotsford</td>\n",
       "      <td>85 Turner St</td>\n",
       "      <td>2</td>\n",
       "      <td>h</td>\n",
       "      <td>1480000.0</td>\n",
       "      <td>S</td>\n",
       "      <td>Biggin</td>\n",
       "      <td>3/12/2016</td>\n",
       "      <td>2.5</td>\n",
       "      <td>3067.0</td>\n",
       "      <td>...</td>\n",
       "      <td>1.0</td>\n",
       "      <td>1.0</td>\n",
       "      <td>202.0</td>\n",
       "      <td>NaN</td>\n",
       "      <td>NaN</td>\n",
       "      <td>Yarra City Council</td>\n",
       "      <td>-37.7996</td>\n",
       "      <td>144.9984</td>\n",
       "      <td>Northern Metropolitan</td>\n",
       "      <td>4019.0</td>\n",
       "    </tr>\n",
       "    <tr>\n",
       "      <th>2</th>\n",
       "      <td>Abbotsford</td>\n",
       "      <td>25 Bloomburg St</td>\n",
       "      <td>2</td>\n",
       "      <td>h</td>\n",
       "      <td>1035000.0</td>\n",
       "      <td>S</td>\n",
       "      <td>Biggin</td>\n",
       "      <td>4/02/2016</td>\n",
       "      <td>2.5</td>\n",
       "      <td>3067.0</td>\n",
       "      <td>...</td>\n",
       "      <td>1.0</td>\n",
       "      <td>0.0</td>\n",
       "      <td>156.0</td>\n",
       "      <td>79.0</td>\n",
       "      <td>1900.0</td>\n",
       "      <td>Yarra City Council</td>\n",
       "      <td>-37.8079</td>\n",
       "      <td>144.9934</td>\n",
       "      <td>Northern Metropolitan</td>\n",
       "      <td>4019.0</td>\n",
       "    </tr>\n",
       "    <tr>\n",
       "      <th>3</th>\n",
       "      <td>Abbotsford</td>\n",
       "      <td>18/659 Victoria St</td>\n",
       "      <td>3</td>\n",
       "      <td>u</td>\n",
       "      <td>NaN</td>\n",
       "      <td>VB</td>\n",
       "      <td>Rounds</td>\n",
       "      <td>4/02/2016</td>\n",
       "      <td>2.5</td>\n",
       "      <td>3067.0</td>\n",
       "      <td>...</td>\n",
       "      <td>2.0</td>\n",
       "      <td>1.0</td>\n",
       "      <td>0.0</td>\n",
       "      <td>NaN</td>\n",
       "      <td>NaN</td>\n",
       "      <td>Yarra City Council</td>\n",
       "      <td>-37.8114</td>\n",
       "      <td>145.0116</td>\n",
       "      <td>Northern Metropolitan</td>\n",
       "      <td>4019.0</td>\n",
       "    </tr>\n",
       "    <tr>\n",
       "      <th>4</th>\n",
       "      <td>Abbotsford</td>\n",
       "      <td>5 Charles St</td>\n",
       "      <td>3</td>\n",
       "      <td>h</td>\n",
       "      <td>1465000.0</td>\n",
       "      <td>SP</td>\n",
       "      <td>Biggin</td>\n",
       "      <td>4/03/2017</td>\n",
       "      <td>2.5</td>\n",
       "      <td>3067.0</td>\n",
       "      <td>...</td>\n",
       "      <td>2.0</td>\n",
       "      <td>0.0</td>\n",
       "      <td>134.0</td>\n",
       "      <td>150.0</td>\n",
       "      <td>1900.0</td>\n",
       "      <td>Yarra City Council</td>\n",
       "      <td>-37.8093</td>\n",
       "      <td>144.9944</td>\n",
       "      <td>Northern Metropolitan</td>\n",
       "      <td>4019.0</td>\n",
       "    </tr>\n",
       "  </tbody>\n",
       "</table>\n",
       "<p>5 rows × 21 columns</p>\n",
       "</div>"
      ],
      "text/plain": [
       "       Suburb             Address  Rooms Type      Price Method SellerG  \\\n",
       "0  Abbotsford       68 Studley St      2    h        NaN     SS  Jellis   \n",
       "1  Abbotsford        85 Turner St      2    h  1480000.0      S  Biggin   \n",
       "2  Abbotsford     25 Bloomburg St      2    h  1035000.0      S  Biggin   \n",
       "3  Abbotsford  18/659 Victoria St      3    u        NaN     VB  Rounds   \n",
       "4  Abbotsford        5 Charles St      3    h  1465000.0     SP  Biggin   \n",
       "\n",
       "        Date  Distance  Postcode  ...  Bathroom  Car  Landsize  BuildingArea  \\\n",
       "0  3/09/2016       2.5    3067.0  ...       1.0  1.0     126.0           NaN   \n",
       "1  3/12/2016       2.5    3067.0  ...       1.0  1.0     202.0           NaN   \n",
       "2  4/02/2016       2.5    3067.0  ...       1.0  0.0     156.0          79.0   \n",
       "3  4/02/2016       2.5    3067.0  ...       2.0  1.0       0.0           NaN   \n",
       "4  4/03/2017       2.5    3067.0  ...       2.0  0.0     134.0         150.0   \n",
       "\n",
       "   YearBuilt         CouncilArea Lattitude  Longtitude             Regionname  \\\n",
       "0        NaN  Yarra City Council  -37.8014    144.9958  Northern Metropolitan   \n",
       "1        NaN  Yarra City Council  -37.7996    144.9984  Northern Metropolitan   \n",
       "2     1900.0  Yarra City Council  -37.8079    144.9934  Northern Metropolitan   \n",
       "3        NaN  Yarra City Council  -37.8114    145.0116  Northern Metropolitan   \n",
       "4     1900.0  Yarra City Council  -37.8093    144.9944  Northern Metropolitan   \n",
       "\n",
       "  Propertycount  \n",
       "0        4019.0  \n",
       "1        4019.0  \n",
       "2        4019.0  \n",
       "3        4019.0  \n",
       "4        4019.0  \n",
       "\n",
       "[5 rows x 21 columns]"
      ]
     },
     "execution_count": 5,
     "metadata": {},
     "output_type": "execute_result"
    }
   ],
   "source": [
    "url = 'https://raw.githubusercontent.com/dipalira/Melbourne-Housing-Data-Kaggle/master/Data/Melbourne_housing_FULL.csv'\n",
    "melbourne_data = pd.read_csv(url)\n",
    "melbourne_data.head()"
   ]
  },
  {
   "cell_type": "code",
   "execution_count": 25,
   "metadata": {},
   "outputs": [
    {
     "data": {
      "text/plain": [
       "Index(['Suburb', 'Address', 'Rooms', 'Type', 'Price', 'Method', 'SellerG',\n",
       "       'Date', 'Distance', 'Postcode', 'Bedroom2', 'Bathroom', 'Car',\n",
       "       'Landsize', 'BuildingArea', 'YearBuilt', 'CouncilArea', 'Lattitude',\n",
       "       'Longtitude', 'Regionname', 'Propertycount'],\n",
       "      dtype='object')"
      ]
     },
     "execution_count": 25,
     "metadata": {},
     "output_type": "execute_result"
    }
   ],
   "source": [
    "melbourne_data.columns"
   ]
  },
  {
   "cell_type": "markdown",
   "metadata": {},
   "source": [
    "**Question**\n",
    "\n",
    "Before answering the following questions, cast the price column in the Melbourne housing market dataset to an integer type and remove any null values in the price column. Which of the following statements is true regarding dropping null values in the price column?\n",
    "\n",
    "A. Dropping all null values will lead to a loss of 74% of the data\n",
    "\n",
    "B. Dropping null values will not affect the data in the \"price\" column since it has no null values\n",
    "\n",
    "C. Dropping all null values will lead to a loss of 21% of the data\n",
    "\n",
    "D. Dropping null values will lead to a loss of only 6% of the data, as the \"price\" column has a low percentage of null values"
   ]
  },
  {
   "cell_type": "code",
   "execution_count": 7,
   "metadata": {},
   "outputs": [],
   "source": [
    "# Cast the price column to integer type\n",
    "melbourne_data['Price'] = pd.to_numeric(melbourne_data['Price'], errors='coerce')"
   ]
  },
  {
   "cell_type": "code",
   "execution_count": 11,
   "metadata": {},
   "outputs": [
    {
     "data": {
      "text/plain": [
       "34857"
      ]
     },
     "execution_count": 11,
     "metadata": {},
     "output_type": "execute_result"
    }
   ],
   "source": [
    "# number of values before droppping NAs\n",
    "num_before_drop_na = melbourne_data.shape[0]\n",
    "num_before_drop_na"
   ]
  },
  {
   "cell_type": "code",
   "execution_count": 12,
   "metadata": {},
   "outputs": [],
   "source": [
    "# remove null values\n",
    "melbourne_data = melbourne_data.dropna(subset=['Price'])"
   ]
  },
  {
   "cell_type": "code",
   "execution_count": 13,
   "metadata": {},
   "outputs": [
    {
     "data": {
      "text/plain": [
       "27247"
      ]
     },
     "execution_count": 13,
     "metadata": {},
     "output_type": "execute_result"
    }
   ],
   "source": [
    "# number of values after droppping NAs\n",
    "num_after_drop_na = melbourne_data.shape[0]\n",
    "num_after_drop_na"
   ]
  },
  {
   "cell_type": "code",
   "execution_count": 14,
   "metadata": {},
   "outputs": [
    {
     "data": {
      "text/plain": [
       "21.83205668875692"
      ]
     },
     "execution_count": 14,
     "metadata": {},
     "output_type": "execute_result"
    }
   ],
   "source": [
    "(num_before_drop_na - num_after_drop_na)/num_before_drop_na * 100"
   ]
  },
  {
   "cell_type": "markdown",
   "metadata": {},
   "source": [
    "**Answer:** C. Dropping all null values will lead to a loss of 21% of the data"
   ]
  },
  {
   "cell_type": "markdown",
   "metadata": {},
   "source": [
    "**What is the most common type of property, and what percentage of the properties does it represent? (h - house; u - unit; t - townhouse;)**\n",
    "\n",
    "A. The most common type of property is houses and they represent 54% of the properties\n",
    "\n",
    "B. The most common type of property is units and they represent 54% of the properties\n",
    "\n",
    "C. The most common type of property is units, and they represent 67% of the properties\n",
    "\n",
    "D. The most common type of property is houses, and they represent 67% of the properties"
   ]
  },
  {
   "cell_type": "code",
   "execution_count": 15,
   "metadata": {},
   "outputs": [
    {
     "data": {
      "text/plain": [
       "('h', 67.79461959114765)"
      ]
     },
     "execution_count": 15,
     "metadata": {},
     "output_type": "execute_result"
    }
   ],
   "source": [
    "# Calculate the most common type of property and its percentage\n",
    "property_counts = melbourne_data['Type'].value_counts()\n",
    "most_common_type = property_counts.idxmax()\n",
    "most_common_percentage = (property_counts.max() / property_counts.sum()) * 100\n",
    "\n",
    "most_common_type, most_common_percentage"
   ]
  },
  {
   "cell_type": "markdown",
   "metadata": {},
   "source": [
    "**Answer:** D. The most common type of property is houses, and they represent 67% of the properties"
   ]
  },
  {
   "cell_type": "markdown",
   "metadata": {},
   "source": [
    "**Question**\n",
    "Create a graph to show the frequency of each property type in descending order. Which graph technique is the most suitable and straightforward approach for this task?\n",
    "\n",
    "A. Countplot\n",
    "\n",
    "B. Boxplot\n",
    "\n",
    "C. Scatterplot\n",
    "\n",
    "D. Histogram\n",
    "\n",
    "E. Barplot"
   ]
  },
  {
   "cell_type": "markdown",
   "metadata": {},
   "source": [
    "**Answer:** E. Barplot"
   ]
  },
  {
   "cell_type": "markdown",
   "metadata": {},
   "source": [
    "**Question**\n",
    "How does the number of rooms impact the median property price? Represent this relationship using a bar chart.\n",
    "\n",
    "A. The median property price generally increases with the number of rooms, but there are some exceptions where the price decreases or remains the same\n",
    "\n",
    "B. The median property price increases with the number of rooms up to a certain point, after which it begins to decrease\n",
    "\n",
    "C. There is no clear relationship between the number of rooms and the median property price in the Melbourne housing market dataset"
   ]
  },
  {
   "cell_type": "code",
   "execution_count": 23,
   "metadata": {},
   "outputs": [
    {
     "data": {
      "image/png": "[encoded data removed]",
      "text/plain": [
       "<Figure size 1000x600 with 1 Axes>"
      ]
     },
     "metadata": {},
     "output_type": "display_data"
    }
   ],
   "source": [
    "# Create a bar chart to represent this relationship\n",
    "plt.figure(figsize=(10, 6))\n",
    "\n",
    "# Calculate the median property price for each number of rooms\n",
    "median_price_per_room = melbourne_data.groupby('Rooms')['Price'].median().sort_index()\n",
    "median_price_per_room.plot(kind='bar')\n",
    "\n",
    "# plt.bar(melbourne_data['Rooms'], median_price_per_room)\n",
    "plt.title('Median Property Price by Number of Rooms')\n",
    "plt.xlabel('Number of Rooms')\n",
    "plt.ylabel('Median Price')\n",
    "plt.xticks(rotation=0)\n",
    "plt.show()\n",
    "\n",
    "# median_price_per_room"
   ]
  },
  {
   "cell_type": "markdown",
   "metadata": {},
   "source": [
    "**Answer:** A. The median property price generally increases with the number of rooms, but there are some exceptions where the price decreases or remains the same"
   ]
  },
  {
   "cell_type": "markdown",
   "metadata": {},
   "source": [
    "**Question**\n",
    "Since the relationship between property price and number of rooms may not be linear, it is appropriate to use a non-parametric correlation coefficient such as Spearman's to determine the strength of the relationship. Calculate the Spearman correlation coefficient to analyze the relationship between price and number of rooms.\n",
    "\n",
    "A. There is no correlation between property price and number of rooms\n",
    "\n",
    "B. The correlation between property price and number of rooms is weak\n",
    "\n",
    "C. The correlation between property price and number of rooms is moderate\n",
    "\n",
    "D. The correlation between property price and number of rooms is strong"
   ]
  },
  {
   "cell_type": "code",
   "execution_count": 24,
   "metadata": {},
   "outputs": [
    {
     "data": {
      "text/plain": [
       "0.5042971590926004"
      ]
     },
     "execution_count": 24,
     "metadata": {},
     "output_type": "execute_result"
    }
   ],
   "source": [
    "# Calculating the Spearman rank correlation between 'Price' and 'number of room' \n",
    "correlation = melbourne_data['Price'].corr(melbourne_data['Rooms'], method='spearman')\n",
    "correlation"
   ]
  },
  {
   "cell_type": "markdown",
   "metadata": {},
   "source": [
    "**Answer:** C. The correlation between property price and number of rooms is moderate"
   ]
  },
  {
   "cell_type": "markdown",
   "metadata": {},
   "source": [
    "**Question**\n",
    "Is there a relationship between the distance from the Central Business District (CBD) and the property price? Use a scatter plot to visualize the relationship and calculate a correlation coefficient to determine the strength and direction of the correlation.\n",
    "\n",
    "A. There is a weak negative correlation between the distance from CBD and the property price\n",
    "\n",
    "B. There is a moderate negative correlation between the distance from CBD and the property price\n",
    "\n",
    "C. There is no correlation between the distance from CBD and the property price\n",
    "\n",
    "D. There is a weak positive correlation between the distance from CBD and the property price"
   ]
  },
  {
   "cell_type": "code",
   "execution_count": 26,
   "metadata": {},
   "outputs": [
    {
     "data": {
      "image/png": "[encoded data removed]",
      "text/plain": [
       "<Figure size 1000x600 with 1 Axes>"
      ]
     },
     "metadata": {},
     "output_type": "display_data"
    }
   ],
   "source": [
    "# Create a scatter chart to represent this relationship\n",
    "plt.figure(figsize=(10, 6))\n",
    "\n",
    "plt.scatter(melbourne_data['Price'], melbourne_data['Distance'])\n",
    "plt.title('Price by Central Business District')\n",
    "plt.xlabel('Central Business District')\n",
    "plt.ylabel('Price')\n",
    "plt.xticks(rotation=0)\n",
    "plt.show()"
   ]
  },
  {
   "cell_type": "markdown",
   "metadata": {},
   "source": [
    "Calculate a correlation coefficient to determine the strength and direction of the correlation."
   ]
  },
  {
   "cell_type": "code",
   "execution_count": 27,
   "metadata": {},
   "outputs": [
    {
     "data": {
      "text/plain": [
       "-0.21138434279158289"
      ]
     },
     "execution_count": 27,
     "metadata": {},
     "output_type": "execute_result"
    }
   ],
   "source": [
    "# Calculating the Pearson correlation coefficient between 'Price' and 'CBD' columns\n",
    "correlation = melbourne_data['Price'].corr(melbourne_data['Distance'])\n",
    "correlation"
   ]
  },
  {
   "cell_type": "markdown",
   "metadata": {},
   "source": [
    "**Answer:** A. There is a weak negative correlation between the distance from CBD and the property price"
   ]
  },
  {
   "cell_type": "markdown",
   "metadata": {},
   "source": [
    "**Question**\n",
    "Is there a relationship between the property size and the property price?\n",
    "\n",
    "A. There is a weak positive linear relationship between property size and property price\n",
    "\n",
    "B. There is a weak positive correlation between the two variables, but the relationship may not be linear\n",
    "\n",
    "C. There is a moderate positive linear relationship between property size and property price\n",
    "\n",
    "D. There is no relationship between property size and property price"
   ]
  },
  {
   "cell_type": "code",
   "execution_count": 28,
   "metadata": {},
   "outputs": [
    {
     "data": {
      "text/plain": [
       "0.10075363947310159"
      ]
     },
     "execution_count": 28,
     "metadata": {},
     "output_type": "execute_result"
    }
   ],
   "source": [
    "# Calculating the Pearson correlation coefficient between 'Price' and 'Size' columns\n",
    "correlation = melbourne_data['Price'].corr(melbourne_data['BuildingArea'])\n",
    "correlation"
   ]
  },
  {
   "cell_type": "markdown",
   "metadata": {},
   "source": [
    "**Answer:** B. There is a weak positive correlation between the two variables, but the relationship may not be linear\n"
   ]
  },
  {
   "cell_type": "markdown",
   "metadata": {},
   "source": [
    "**Question**\n",
    "When looking visually at the relationship between land size and property price, a scatter plot might not be the most informative way to visualize this relationship (try it!). Instead, we can use a quantile-based discretization function to categorize the Landsize variable and create a bar plot. When using q=7, how does the relationship between land size and median property price change compared to using a lower quantile value?\n",
    "\n",
    "A. The relationship between land size and property price remains the same when using q=7 compared to a lower quantile value\n",
    "\n",
    "B. The relationship between land size and property price becomes more pronounced when using q=7 compared to a lower quantile value\n",
    "\n",
    "C. The frequency of properties with a larger land size having a lower price than properties with a smaller land size increases when using q=7 compared to a lower quantile value\n",
    "\n",
    "D. The frequency of properties with a larger land size having a lower price than properties with a smaller land size decreases when using q=7 compared to a lower quantile value"
   ]
  },
  {
   "cell_type": "code",
   "execution_count": 29,
   "metadata": {},
   "outputs": [
    {
     "data": {
      "image/png": "[encoded data removed]",
      "text/plain": [
       "<Figure size 1000x600 with 1 Axes>"
      ]
     },
     "metadata": {},
     "output_type": "display_data"
    }
   ],
   "source": [
    "# Create a scatter chart to represent this relationship\n",
    "plt.figure(figsize=(10, 6))\n",
    "\n",
    "plt.scatter(melbourne_data['Price'], melbourne_data['Landsize'])\n",
    "plt.title('Price by Landsize')\n",
    "plt.xlabel('Landsize')\n",
    "plt.ylabel('Price')\n",
    "plt.xticks(rotation=0)\n",
    "plt.show()"
   ]
  },
  {
   "cell_type": "code",
   "execution_count": 31,
   "metadata": {},
   "outputs": [
    {
     "data": {
      "image/png": "[encoded data removed]",
      "text/plain": [
       "<Figure size 1200x600 with 1 Axes>"
      ]
     },
     "metadata": {},
     "output_type": "display_data"
    },
    {
     "data": {
      "text/plain": [
       "Landsize\n",
       "(-0.001, 120.0]       600000.0\n",
       "(120.0, 255.0]        920000.0\n",
       "(255.0, 415.0]       1014000.0\n",
       "(415.0, 564.0]        890000.0\n",
       "(564.0, 649.0]        940000.0\n",
       "(649.0, 745.0]       1115000.0\n",
       "(745.0, 433014.0]    1080000.0\n",
       "Name: Price, dtype: float64"
      ]
     },
     "execution_count": 31,
     "metadata": {},
     "output_type": "execute_result"
    }
   ],
   "source": [
    "# Categorize the 'Landsize' variable using q=7 quantiles\n",
    "melbourne_data['Landsize'] = pd.qcut(melbourne_data['Landsize'], q=7, duplicates='drop')\n",
    "\n",
    "# Calculate the median property price for each quantile\n",
    "median_price_per_quantile = melbourne_data.groupby('Landsize')['Price'].median().sort_index()\n",
    "\n",
    "# Create a bar plot to represent this relationship\n",
    "plt.figure(figsize=(12, 6))\n",
    "median_price_per_quantile.plot(kind='bar')\n",
    "plt.title('Median Property Price by Land Size Quantiles (q=7)')\n",
    "plt.xlabel('Land Size Quantiles')\n",
    "plt.ylabel('Median Price')\n",
    "plt.xticks(rotation=45)\n",
    "plt.show()\n",
    "\n",
    "median_price_per_quantile\n"
   ]
  },
  {
   "cell_type": "markdown",
   "metadata": {},
   "source": [
    "**Answer:** B. The relationship between land size and property price becomes more pronounced when using q=7 compared to a lower quantile value\n"
   ]
  },
  {
   "cell_type": "markdown",
   "metadata": {},
   "source": [
    "**Question**\n",
    "Does the dataset contain any properties that are priced significantly above or below the average? To investigate, create a box plot to detect potential outliers, and use Tukey's method with a 1.5 threshold to create a new dataframe without these outliers. What percentage of properties are identified as outliers using Tukey's method?\n",
    "\n",
    "A. 0.69%\n",
    "\n",
    "B. 1.69%\n",
    "\n",
    "C. 3.69%\n",
    "\n",
    "D. 4.69%"
   ]
  },
  {
   "cell_type": "code",
   "execution_count": 32,
   "metadata": {},
   "outputs": [
    {
     "data": {
      "text/plain": [
       "4.690424633904651"
      ]
     },
     "execution_count": 32,
     "metadata": {},
     "output_type": "execute_result"
    }
   ],
   "source": [
    "# Calculate the first and third quartiles (Q1 and Q3) and the interquartile range (IQR)\n",
    "Q1 = melbourne_data['Price'].quantile(0.25)\n",
    "Q3 = melbourne_data['Price'].quantile(0.75)\n",
    "IQR = Q3 - Q1\n",
    "\n",
    "# Define the outlier thresholds using Tukey's method with a 1.5 threshold\n",
    "lower_bound = Q1 - 1.5 * IQR\n",
    "upper_bound = Q3 + 1.5 * IQR\n",
    "\n",
    "# Identify the outliers\n",
    "outliers = melbourne_data[(melbourne_data['Price'] < lower_bound) | (melbourne_data['Price'] > upper_bound)]\n",
    "\n",
    "# Calculate the percentage of outliers\n",
    "percentage_outliers = (len(outliers) / len(melbourne_data)) * 100\n",
    "\n",
    "percentage_outliers"
   ]
  },
  {
   "cell_type": "markdown",
   "metadata": {},
   "source": [
    "**Answer:** D.4.69%"
   ]
  },
  {
   "cell_type": "markdown",
   "metadata": {},
   "source": [
    "**Question**\n",
    "How is the property price distribution? Create a QQ plot to compare the distribution of property prices to a normal distribution visually, and calculate the skew and kurtosis to get a better understanding of the shape of the distribution analytically.\n",
    "\n",
    "A. The property price distribution is positively skewed\n",
    "\n",
    "B. The property price distribution is negatively skewed\n",
    "\n",
    "C. The property price distribution is normally distributed\n",
    "\n",
    "D. The property price distribution is bimodal"
   ]
  },
  {
   "cell_type": "code",
   "execution_count": 34,
   "metadata": {},
   "outputs": [
    {
     "data": {
      "image/png": "[encoded data removed]",
      "text/plain": [
       "<Figure size 640x480 with 1 Axes>"
      ]
     },
     "metadata": {},
     "output_type": "display_data"
    }
   ],
   "source": [
    "# Generating a Q-Q plot for 'Price' to check if its distribution follows a normal distribution\n",
    "sm.qqplot(melbourne_data['Price'], line='s');"
   ]
  },
  {
   "cell_type": "code",
   "execution_count": 35,
   "metadata": {},
   "outputs": [
    {
     "data": {
      "text/plain": [
       "(2.5889693410528594, 13.097200515556374)"
      ]
     },
     "execution_count": 35,
     "metadata": {},
     "output_type": "execute_result"
    }
   ],
   "source": [
    "# Calculate skew and kurtosis\n",
    "skewness = melbourne_data['Price'].skew()\n",
    "kurtosis = melbourne_data['Price'].kurt()\n",
    "\n",
    "skewness, kurtosis"
   ]
  },
  {
   "cell_type": "markdown",
   "metadata": {},
   "source": [
    "**Answer:** A. The property price distribution is positively skewed"
   ]
  },
  {
   "cell_type": "markdown",
   "metadata": {},
   "source": [
    "**Question** What is the outcome of performing a normality test, such as the Kolmogorov-Smirnov test, on the distribution of property prices? Specifically, what possible conclusions can be drawn from the test results regarding the similarity of the distribution to a normal distribution?\n",
    "\n",
    "A. The test results indicate that the distribution of property prices in the Melbourne housing market dataset is significantly different from a normal distribution\n",
    "\n",
    "B. The test results indicate that the distribution of property prices in the Melbourne housing market dataset is not significantly different from a normal distribution\n",
    "\n",
    "C. The test results indicate that the distribution of property prices in the Melbourne housing market dataset is slightly different from a normal distribution, but the difference is not significant\n",
    "\n",
    "D. The test results indicate that the distribution of property prices in the Melbourne housing market dataset is normal, and there is no need to perform additional tests"
   ]
  },
  {
   "cell_type": "code",
   "execution_count": 37,
   "metadata": {},
   "outputs": [
    {
     "data": {
      "text/plain": [
       "(0.1375128495378416, 0.0)"
      ]
     },
     "execution_count": 37,
     "metadata": {},
     "output_type": "execute_result"
    }
   ],
   "source": [
    "# Conducting the Kolmogorov-Smirnov test for normality on 'Price'\n",
    "# First, we need to standardize the data to have mean 0 and variance 1 since we're comparing against a standard normal distribution\n",
    "standardized_saleprice = (melbourne_data['Price'] - melbourne_data['Price'].mean()) / melbourne_data['Price'].std()\n",
    "ks_test_statistic, ks_p_value = stats.kstest(standardized_saleprice, 'norm')\n",
    "\n",
    "ks_test_statistic, ks_p_value"
   ]
  },
  {
   "cell_type": "code",
   "execution_count": 38,
   "metadata": {},
   "outputs": [
    {
     "name": "stdout",
     "output_type": "stream",
     "text": [
      "The test results indicate that the distribution of prices is significantly different from a normal distribution.\n"
     ]
    }
   ],
   "source": [
    "# print the test result\n",
    "if ks_p_value < 0.05:\n",
    "    print('The test results indicate that the distribution of prices is significantly different from a normal distribution.')\n",
    "else:\n",
    "    print('The test results indicate that the distribution of prices is not significantly different from a normal distribution.')"
   ]
  },
  {
   "cell_type": "markdown",
   "metadata": {},
   "source": [
    "**Answer:** A. The test results indicate that the distribution of property prices in the Melbourne housing market dataset is significantly different from a normal distribution"
   ]
  },
  {
   "cell_type": "markdown",
   "metadata": {},
   "source": [
    "**Question** How do property prices differ between different property types? Create a box plot to show the distribution of property prices for each property type?\n",
    "\n",
    "A. There are no significant differences in property prices between different property types\n",
    "\n",
    "B. Houses have higher property prices than units and townhouses\n",
    "\n",
    "C. Units have higher property prices than houses and townhouses\n",
    "\n",
    "D. Townhouses have higher property prices than houses and units"
   ]
  },
  {
   "cell_type": "code",
   "execution_count": 40,
   "metadata": {},
   "outputs": [
    {
     "name": "stderr",
     "output_type": "stream",
     "text": [
      "/var/folders/rv/whttr0rs0h71ygvlwqb00mt00000gp/T/ipykernel_32408/1123510990.py:2: FutureWarning: \n",
      "\n",
      "Passing `palette` without assigning `hue` is deprecated and will be removed in v0.14.0. Assign the `x` variable to `hue` and set `legend=False` for the same effect.\n",
      "\n",
      "  sns.boxplot(data=melbourne_data, x='Type', y='Price', palette=\"coolwarm\")\n"
     ]
    },
    {
     "data": {
      "text/plain": [
       "<Axes: xlabel='Type', ylabel='Price'>"
      ]
     },
     "execution_count": 40,
     "metadata": {},
     "output_type": "execute_result"
    },
    {
     "data": {
      "image/png": "[encoded data removed]",
      "text/plain": [
       "<Figure size 640x480 with 1 Axes>"
      ]
     },
     "metadata": {},
     "output_type": "display_data"
    }
   ],
   "source": [
    "# Plotting a box plot to visualize the spread and outliers of 'Price' for each 'property Type' category\n",
    "sns.boxplot(data=melbourne_data, x='Type', y='Price', palette=\"coolwarm\")"
   ]
  },
  {
   "cell_type": "markdown",
   "metadata": {},
   "source": [
    "**Answer:** B. Houses have higher property prices than units and townhouses."
   ]
  },
  {
   "cell_type": "markdown",
   "metadata": {},
   "source": [
    "**Question** What is the region with the highest median price? Conversely, which region has the lowest median price?\n",
    "\n",
    "A. Most expensive: Western Victoria, Cheapest: Southern Metropolitan\n",
    "\n",
    "B. Most expensive: Southern Metropolitan, Cheapest: Western Victoria\n",
    "\n",
    "C. Most expensive: Northern Metropolitan, Cheapest: Eastern Victoria\n",
    "\n",
    "D. Most expensive: Eastern Victoria, Cheapest: Northern Metropolitan"
   ]
  },
  {
   "cell_type": "code",
   "execution_count": 51,
   "metadata": {},
   "outputs": [
    {
     "data": {
      "text/plain": [
       "Regionname\n",
       "Southern Metropolitan         1250000.0\n",
       "Eastern Metropolitan          1015000.0\n",
       "South-Eastern Metropolitan     811250.0\n",
       "Northern Metropolitan          752500.0\n",
       "Western Metropolitan           750000.0\n",
       "Eastern Victoria               679000.0\n",
       "Northern Victoria              565000.0\n",
       "Western Victoria               412125.0\n",
       "Name: Price, dtype: float64"
      ]
     },
     "execution_count": 51,
     "metadata": {},
     "output_type": "execute_result"
    }
   ],
   "source": [
    "# melbourne_data['Regionname'].sort_index\n",
    "median_price_per_region = melbourne_data.groupby('Regionname')['Price'].median().sort_values(ascending=False)\n",
    "median_price_per_region"
   ]
  },
  {
   "cell_type": "markdown",
   "metadata": {},
   "source": [
    "**Answer:** B. Most expensive: Southern Metropolitan, Cheapest: Western Victoria"
   ]
  },
  {
   "cell_type": "markdown",
   "metadata": {},
   "source": [
    "**Question**\n",
    "Is there a statistically significant association between the region (Regionname) and the price of properties? Use chi square test to assess the independence between region and price and Cramer's V coefficient to quantify the strength of the association between these two features.\n",
    "\n",
    "It's worth noting that in order to perform this analysis, both features need to be categorical. Divide the price variable into five distinct ranges.\n",
    "\n",
    "Use Cohen (1988) interpretation on Cramer's V, which depends on the degrees of freedom\n",
    "\n",
    "A. Yes, there is a significant relationship between the region (Regionname) and the price of properties, and the relationship is medium\n",
    "\n",
    "B. Yes, there is a significant relationship between the region (Regionname) and the price of properties, and the relationship is strong\n",
    "\n",
    "C. No, there is no significant relationship between the region (Regionname) and the price of properties\n",
    "\n",
    "D. None of the above"
   ]
  },
  {
   "cell_type": "code",
   "execution_count": 52,
   "metadata": {},
   "outputs": [
    {
     "data": {
      "text/plain": [
       "(5728.727443613416, 0.0, 0.2292786672838293)"
      ]
     },
     "execution_count": 52,
     "metadata": {},
     "output_type": "execute_result"
    }
   ],
   "source": [
    "# Divide the price variable into five distinct ranges (quintiles)\n",
    "price_bins = pd.qcut(melbourne_data['Price'], q=5, labels=False)\n",
    "\n",
    "# Add the binned price data to the dataframe\n",
    "melbourne_data['Price_Binned'] = price_bins\n",
    "\n",
    "# Create a contingency table for Regionname and Price_Binned\n",
    "contingency_table = pd.crosstab(melbourne_data['Regionname'], melbourne_data['Price_Binned'])\n",
    "\n",
    "# Perform the chi-square test\n",
    "chi2, p, dof, ex = stats.chi2_contingency(contingency_table)\n",
    "\n",
    "# Calculate Cramer's V\n",
    "n = contingency_table.sum().sum()\n",
    "cramers_v = (chi2 / (n * (min(contingency_table.shape) - 1))) ** 0.5\n",
    "\n",
    "chi2, p, cramers_v\n"
   ]
  },
  {
   "cell_type": "markdown",
   "metadata": {},
   "source": [
    "**Answer:** A. Yes, there is a significant relationship between the region (Regionname) and the price of properties, and the relationship is medium."
   ]
  },
  {
   "cell_type": "markdown",
   "metadata": {},
   "source": [
    "**Question**\n",
    "How much was the percentage increase or decrease in median price of properties sold between the earliest year and the latest year (Date column)?\n",
    "\n",
    "A. 5.48%\n",
    "\n",
    "B. 10.37%\n",
    "\n",
    "C. -5.48%\n",
    "\n",
    "D. -10.37%"
   ]
  },
  {
   "cell_type": "code",
   "execution_count": 87,
   "metadata": {},
   "outputs": [
    {
     "data": {
      "text/plain": [
       "(2016, 2018, 885000.0, 836500.0, -5.480225988700565)"
      ]
     },
     "execution_count": 87,
     "metadata": {},
     "output_type": "execute_result"
    }
   ],
   "source": [
    "# Convert the 'Date' column to datetime format\n",
    "melbourne_data['Date'] = pd.to_datetime(melbourne_data['Date'], format='%d/%m/%Y')\n",
    "\n",
    "# Extract the earliest and latest year from the 'Date' column\n",
    "earliest_year = melbourne_data['Date'].min().year\n",
    "latest_year = melbourne_data['Date'].max().year\n",
    "\n",
    "# Calculate the median price for the earliest and latest year\n",
    "median_price_earliest_year = melbourne_data[melbourne_data['Date'].dt.year == earliest_year]['Price'].median()\n",
    "median_price_latest_year = melbourne_data[melbourne_data['Date'].dt.year == latest_year]['Price'].median()\n",
    "\n",
    "# Calculate the percentage change\n",
    "percentage_change = ((median_price_latest_year - median_price_earliest_year) / median_price_earliest_year) * 100\n",
    "\n",
    "earliest_year, latest_year, median_price_earliest_year, median_price_latest_year, percentage_change\n"
   ]
  },
  {
   "cell_type": "markdown",
   "metadata": {},
   "source": [
    "**Answer:** Closest answer is A"
   ]
  },
  {
   "cell_type": "markdown",
   "metadata": {},
   "source": [
    "**Questio**\n",
    "Is there a specific month during which more houses are sold?\n",
    "\n",
    "A. January\n",
    "\n",
    "B. March\n",
    "\n",
    "C. October\n",
    "\n",
    "D. November\n",
    "\n"
   ]
  },
  {
   "cell_type": "code",
   "execution_count": 89,
   "metadata": {},
   "outputs": [
    {
     "data": {
      "text/html": [
       "<div>\n",
       "<style scoped>\n",
       "    .dataframe tbody tr th:only-of-type {\n",
       "        vertical-align: middle;\n",
       "    }\n",
       "\n",
       "    .dataframe tbody tr th {\n",
       "        vertical-align: top;\n",
       "    }\n",
       "\n",
       "    .dataframe thead th {\n",
       "        text-align: right;\n",
       "    }\n",
       "</style>\n",
       "<table border=\"1\" class=\"dataframe\">\n",
       "  <thead>\n",
       "    <tr style=\"text-align: right;\">\n",
       "      <th></th>\n",
       "      <th>Suburb</th>\n",
       "      <th>Address</th>\n",
       "      <th>Rooms</th>\n",
       "      <th>Type</th>\n",
       "      <th>Price</th>\n",
       "      <th>Method</th>\n",
       "      <th>SellerG</th>\n",
       "      <th>Date</th>\n",
       "      <th>Distance</th>\n",
       "      <th>Postcode</th>\n",
       "      <th>...</th>\n",
       "      <th>Landsize</th>\n",
       "      <th>BuildingArea</th>\n",
       "      <th>YearBuilt</th>\n",
       "      <th>CouncilArea</th>\n",
       "      <th>Lattitude</th>\n",
       "      <th>Longtitude</th>\n",
       "      <th>Regionname</th>\n",
       "      <th>Propertycount</th>\n",
       "      <th>Price_Binned</th>\n",
       "      <th>Month</th>\n",
       "    </tr>\n",
       "  </thead>\n",
       "  <tbody>\n",
       "    <tr>\n",
       "      <th>1</th>\n",
       "      <td>Abbotsford</td>\n",
       "      <td>85 Turner St</td>\n",
       "      <td>2</td>\n",
       "      <td>h</td>\n",
       "      <td>1480000.0</td>\n",
       "      <td>S</td>\n",
       "      <td>Biggin</td>\n",
       "      <td>2016-12-03</td>\n",
       "      <td>2.5</td>\n",
       "      <td>3067.0</td>\n",
       "      <td>...</td>\n",
       "      <td>(120.0, 255.0]</td>\n",
       "      <td>NaN</td>\n",
       "      <td>NaN</td>\n",
       "      <td>Yarra City Council</td>\n",
       "      <td>-37.7996</td>\n",
       "      <td>144.9984</td>\n",
       "      <td>Northern Metropolitan</td>\n",
       "      <td>4019.0</td>\n",
       "      <td>4</td>\n",
       "      <td>12</td>\n",
       "    </tr>\n",
       "    <tr>\n",
       "      <th>2</th>\n",
       "      <td>Abbotsford</td>\n",
       "      <td>25 Bloomburg St</td>\n",
       "      <td>2</td>\n",
       "      <td>h</td>\n",
       "      <td>1035000.0</td>\n",
       "      <td>S</td>\n",
       "      <td>Biggin</td>\n",
       "      <td>2016-02-04</td>\n",
       "      <td>2.5</td>\n",
       "      <td>3067.0</td>\n",
       "      <td>...</td>\n",
       "      <td>(120.0, 255.0]</td>\n",
       "      <td>79.0</td>\n",
       "      <td>1900.0</td>\n",
       "      <td>Yarra City Council</td>\n",
       "      <td>-37.8079</td>\n",
       "      <td>144.9934</td>\n",
       "      <td>Northern Metropolitan</td>\n",
       "      <td>4019.0</td>\n",
       "      <td>3</td>\n",
       "      <td>2</td>\n",
       "    </tr>\n",
       "    <tr>\n",
       "      <th>4</th>\n",
       "      <td>Abbotsford</td>\n",
       "      <td>5 Charles St</td>\n",
       "      <td>3</td>\n",
       "      <td>h</td>\n",
       "      <td>1465000.0</td>\n",
       "      <td>SP</td>\n",
       "      <td>Biggin</td>\n",
       "      <td>2017-03-04</td>\n",
       "      <td>2.5</td>\n",
       "      <td>3067.0</td>\n",
       "      <td>...</td>\n",
       "      <td>(120.0, 255.0]</td>\n",
       "      <td>150.0</td>\n",
       "      <td>1900.0</td>\n",
       "      <td>Yarra City Council</td>\n",
       "      <td>-37.8093</td>\n",
       "      <td>144.9944</td>\n",
       "      <td>Northern Metropolitan</td>\n",
       "      <td>4019.0</td>\n",
       "      <td>4</td>\n",
       "      <td>3</td>\n",
       "    </tr>\n",
       "    <tr>\n",
       "      <th>5</th>\n",
       "      <td>Abbotsford</td>\n",
       "      <td>40 Federation La</td>\n",
       "      <td>3</td>\n",
       "      <td>h</td>\n",
       "      <td>850000.0</td>\n",
       "      <td>PI</td>\n",
       "      <td>Biggin</td>\n",
       "      <td>2017-03-04</td>\n",
       "      <td>2.5</td>\n",
       "      <td>3067.0</td>\n",
       "      <td>...</td>\n",
       "      <td>(-0.001, 120.0]</td>\n",
       "      <td>NaN</td>\n",
       "      <td>NaN</td>\n",
       "      <td>Yarra City Council</td>\n",
       "      <td>-37.7969</td>\n",
       "      <td>144.9969</td>\n",
       "      <td>Northern Metropolitan</td>\n",
       "      <td>4019.0</td>\n",
       "      <td>2</td>\n",
       "      <td>3</td>\n",
       "    </tr>\n",
       "    <tr>\n",
       "      <th>6</th>\n",
       "      <td>Abbotsford</td>\n",
       "      <td>55a Park St</td>\n",
       "      <td>4</td>\n",
       "      <td>h</td>\n",
       "      <td>1600000.0</td>\n",
       "      <td>VB</td>\n",
       "      <td>Nelson</td>\n",
       "      <td>2016-06-04</td>\n",
       "      <td>2.5</td>\n",
       "      <td>3067.0</td>\n",
       "      <td>...</td>\n",
       "      <td>(-0.001, 120.0]</td>\n",
       "      <td>142.0</td>\n",
       "      <td>2014.0</td>\n",
       "      <td>Yarra City Council</td>\n",
       "      <td>-37.8072</td>\n",
       "      <td>144.9941</td>\n",
       "      <td>Northern Metropolitan</td>\n",
       "      <td>4019.0</td>\n",
       "      <td>4</td>\n",
       "      <td>6</td>\n",
       "    </tr>\n",
       "  </tbody>\n",
       "</table>\n",
       "<p>5 rows × 23 columns</p>\n",
       "</div>"
      ],
      "text/plain": [
       "       Suburb           Address  Rooms Type      Price Method SellerG  \\\n",
       "1  Abbotsford      85 Turner St      2    h  1480000.0      S  Biggin   \n",
       "2  Abbotsford   25 Bloomburg St      2    h  1035000.0      S  Biggin   \n",
       "4  Abbotsford      5 Charles St      3    h  1465000.0     SP  Biggin   \n",
       "5  Abbotsford  40 Federation La      3    h   850000.0     PI  Biggin   \n",
       "6  Abbotsford       55a Park St      4    h  1600000.0     VB  Nelson   \n",
       "\n",
       "        Date  Distance  Postcode  ...         Landsize  BuildingArea  \\\n",
       "1 2016-12-03       2.5    3067.0  ...   (120.0, 255.0]           NaN   \n",
       "2 2016-02-04       2.5    3067.0  ...   (120.0, 255.0]          79.0   \n",
       "4 2017-03-04       2.5    3067.0  ...   (120.0, 255.0]         150.0   \n",
       "5 2017-03-04       2.5    3067.0  ...  (-0.001, 120.0]           NaN   \n",
       "6 2016-06-04       2.5    3067.0  ...  (-0.001, 120.0]         142.0   \n",
       "\n",
       "   YearBuilt         CouncilArea  Lattitude  Longtitude  \\\n",
       "1        NaN  Yarra City Council   -37.7996    144.9984   \n",
       "2     1900.0  Yarra City Council   -37.8079    144.9934   \n",
       "4     1900.0  Yarra City Council   -37.8093    144.9944   \n",
       "5        NaN  Yarra City Council   -37.7969    144.9969   \n",
       "6     2014.0  Yarra City Council   -37.8072    144.9941   \n",
       "\n",
       "              Regionname  Propertycount  Price_Binned Month  \n",
       "1  Northern Metropolitan         4019.0             4    12  \n",
       "2  Northern Metropolitan         4019.0             3     2  \n",
       "4  Northern Metropolitan         4019.0             4     3  \n",
       "5  Northern Metropolitan         4019.0             2     3  \n",
       "6  Northern Metropolitan         4019.0             4     6  \n",
       "\n",
       "[5 rows x 23 columns]"
      ]
     },
     "execution_count": 89,
     "metadata": {},
     "output_type": "execute_result"
    }
   ],
   "source": [
    "# Extract Month and create a new column\n",
    "melbourne_data['Month'] = melbourne_data['Date'].dt.month\n",
    "melbourne_data.head()"
   ]
  },
  {
   "cell_type": "code",
   "execution_count": 99,
   "metadata": {},
   "outputs": [
    {
     "data": {
      "text/plain": [
       "1      649\n",
       "2     2067\n",
       "3     2362\n",
       "4     1206\n",
       "5     2620\n",
       "6     2425\n",
       "7     2359\n",
       "8     2324\n",
       "9     3219\n",
       "10    3118\n",
       "11    3408\n",
       "12    1490\n",
       "Name: Month, dtype: int64"
      ]
     },
     "execution_count": 99,
     "metadata": {},
     "output_type": "execute_result"
    }
   ],
   "source": [
    "# Calculate the number of houses sold in each month\n",
    "houses_sold_per_month = melbourne_data['Month'].value_counts().sort_index()\n",
    "\n",
    "houses_sold_per_month"
   ]
  },
  {
   "cell_type": "code",
   "execution_count": 100,
   "metadata": {},
   "outputs": [
    {
     "data": {
      "text/plain": [
       "January       649\n",
       "February     2067\n",
       "March        2362\n",
       "April        1206\n",
       "May          2620\n",
       "June         2425\n",
       "July         2359\n",
       "August       2324\n",
       "September    3219\n",
       "October      3118\n",
       "November     3408\n",
       "December     1490\n",
       "Name: Month, dtype: int64"
      ]
     },
     "execution_count": 100,
     "metadata": {},
     "output_type": "execute_result"
    }
   ],
   "source": [
    "# Map month numbers to month names for better readability\n",
    "months = {1: 'January', 2: 'February', 3: 'March', 4: 'April', 5: 'May', 6: 'June', \n",
    "          7: 'July', 8: 'August', 9: 'September', 10: 'October', 11: 'November', 12: 'December'}\n",
    "houses_sold_per_month.index = houses_sold_per_month.index.map(months)\n",
    "\n",
    "houses_sold_per_month"
   ]
  },
  {
   "cell_type": "code",
   "execution_count": 102,
   "metadata": {},
   "outputs": [
    {
     "data": {
      "text/plain": [
       "January       649\n",
       "April        1206\n",
       "December     1490\n",
       "February     2067\n",
       "August       2324\n",
       "July         2359\n",
       "March        2362\n",
       "June         2425\n",
       "May          2620\n",
       "October      3118\n",
       "September    3219\n",
       "November     3408\n",
       "Name: Month, dtype: int64"
      ]
     },
     "execution_count": 102,
     "metadata": {},
     "output_type": "execute_result"
    }
   ],
   "source": [
    "houses_sold_per_month.sort_values(ascending=True)"
   ]
  },
  {
   "cell_type": "markdown",
   "metadata": {},
   "source": [
    "**Answer:** November"
   ]
  }
 ],
 "metadata": {
  "kernelspec": {
   "display_name": "Python 3",
   "language": "python",
   "name": "python3"
  },
  "language_info": {
   "codemirror_mode": {
    "name": "ipython",
    "version": 3
   },
   "file_extension": ".py",
   "mimetype": "text/x-python",
   "name": "python",
   "nbconvert_exporter": "python",
   "pygments_lexer": "ipython3",
   "version": "3.9.6"
  }
 },
 "nbformat": 4,
 "nbformat_minor": 2
}
